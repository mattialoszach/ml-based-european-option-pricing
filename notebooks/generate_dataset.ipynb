{
 "cells": [
  {
   "cell_type": "code",
   "execution_count": 61,
   "id": "249b1092-27d1-46cd-98c3-f5e3e9de5eb3",
   "metadata": {},
   "outputs": [],
   "source": [
    "import sys\n",
    "import os\n",
    "\n",
    "# Path to Project-Root\n",
    "project_root = os.path.abspath(\"..\")\n",
    "\n",
    "data_path = os.path.join(project_root, \"data\", \"raw\")\n",
    "os.makedirs(data_path, exist_ok=True)"
   ]
  },
  {
   "cell_type": "markdown",
   "id": "f470143c-4713-4fa9-8310-f4c100ad85f4",
   "metadata": {},
   "source": [
    "# Notebook for generating dataset"
   ]
  },
  {
   "cell_type": "code",
   "execution_count": 62,
   "id": "19d40b90-9002-420e-a397-1b2417bbadad",
   "metadata": {},
   "outputs": [],
   "source": [
    "import numpy as np\n",
    "import pandas as pd\n",
    "from tqdm import tqdm\n",
    "from utils.bs_formula import black_scholes_price"
   ]
  },
  {
   "cell_type": "code",
   "execution_count": 63,
   "id": "22746896-a538-4766-b4c7-1614dfa5af77",
   "metadata": {},
   "outputs": [],
   "source": [
    "# Set random seed for reproducibility\n",
    "np.random.seed(42)\n",
    "\n",
    "# Number of samples\n",
    "N = 300_000\n",
    "\n",
    "# Preallocate\n",
    "data = []"
   ]
  },
  {
   "cell_type": "markdown",
   "id": "7b5de515-e1a7-4cb9-a1bb-44b4f1194e50",
   "metadata": {},
   "source": [
    "The model is trained and optimized to perform accurately within the following input ranges. One can change them at any time if necessary"
   ]
  },
  {
   "cell_type": "code",
   "execution_count": 64,
   "id": "20c4d2d6-8c4c-449e-96e0-1f957587238f",
   "metadata": {},
   "outputs": [],
   "source": [
    "# Sampling ranges\n",
    "S_range = (50, 150)\n",
    "K_range = (50, 150)\n",
    "T_range = (0.05, 2.0)\n",
    "r_range = (0.0, 0.1)\n",
    "sigma_range = (0.05, 0.6)"
   ]
  },
  {
   "cell_type": "markdown",
   "id": "8b020404-ff48-4948-a512-2d108c39fbff",
   "metadata": {},
   "source": [
    "Iteratively generate the data"
   ]
  },
  {
   "cell_type": "code",
   "execution_count": 65,
   "id": "09878d04-8f09-4f70-af0c-3523a75c0e88",
   "metadata": {},
   "outputs": [
    {
     "name": "stderr",
     "output_type": "stream",
     "text": [
      "100%|██████████████████████████████████████████████████████████████████████████████████| 300000/300000 [00:18<00:00, 16653.69it/s]\n"
     ]
    }
   ],
   "source": [
    "for _ in tqdm(range(N)):\n",
    "    S = np.random.uniform(*S_range)\n",
    "    K = np.random.uniform(*K_range)\n",
    "    T = np.random.uniform(*T_range)\n",
    "    r = np.random.uniform(*r_range)\n",
    "    sigma = np.random.uniform(*sigma_range)\n",
    "    option_type = np.random.choice(['call', 'put'])\n",
    "\n",
    "    price = black_scholes_price(S, K, T, r, sigma, option_type)\n",
    "    type_code = 0 if option_type == 'call' else 1\n",
    "\n",
    "    data.append([S, K, T, r, sigma, type_code, price])\n",
    "\n",
    "# To DataFrame\n",
    "columns = ['S', 'K', 'T', 'r', 'sigma', 'type', 'price']\n",
    "df = pd.DataFrame(data, columns=columns)\n",
    "\n",
    "# Save as CSV\n",
    "df.to_csv(os.path.join(data_path, \"bs_dataset.csv\"), index=False)"
   ]
  },
  {
   "cell_type": "markdown",
   "id": "24305b10-73f9-4b07-bf5f-19ab836e5ae0",
   "metadata": {},
   "source": [
    "Information regarding the dataset"
   ]
  },
  {
   "cell_type": "code",
   "execution_count": 66,
   "id": "e2786c49-04a5-4ffb-89a0-c07733db7218",
   "metadata": {},
   "outputs": [
    {
     "name": "stdout",
     "output_type": "stream",
     "text": [
      "<class 'pandas.core.frame.DataFrame'>\n",
      "RangeIndex: 300000 entries, 0 to 299999\n",
      "Data columns (total 7 columns):\n",
      " #   Column  Non-Null Count   Dtype  \n",
      "---  ------  --------------   -----  \n",
      " 0   S       300000 non-null  float64\n",
      " 1   K       300000 non-null  float64\n",
      " 2   T       300000 non-null  float64\n",
      " 3   r       300000 non-null  float64\n",
      " 4   sigma   300000 non-null  float64\n",
      " 5   type    300000 non-null  int64  \n",
      " 6   price   300000 non-null  float64\n",
      "dtypes: float64(6), int64(1)\n",
      "memory usage: 16.0 MB\n",
      "None\n",
      "            S           K         T         r     sigma  type         price\n",
      "0   87.454012  145.071431  1.477388  0.059866  0.135810     0  3.236445e-02\n",
      "1   59.997492   95.924889  0.700732  0.014287  0.407989     0  1.055673e+00\n",
      "2  146.990985  133.244264  0.464061  0.018182  0.150872     1  1.109715e+00\n",
      "3  111.165316   50.706631  0.094972  0.052477  0.269924     1  6.970430e-22\n",
      "4   79.214465   86.636184  0.939336  0.078518  0.159821     0  4.323768e+00\n"
     ]
    }
   ],
   "source": [
    "print(df.info())\n",
    "print(df.head())"
   ]
  },
  {
   "cell_type": "code",
   "execution_count": null,
   "id": "4c2dd1b0-6247-43bb-91aa-4863e564f5bb",
   "metadata": {},
   "outputs": [],
   "source": []
  }
 ],
 "metadata": {
  "kernelspec": {
   "display_name": "Python (venv)",
   "language": "python",
   "name": "venv"
  },
  "language_info": {
   "codemirror_mode": {
    "name": "ipython",
    "version": 3
   },
   "file_extension": ".py",
   "mimetype": "text/x-python",
   "name": "python",
   "nbconvert_exporter": "python",
   "pygments_lexer": "ipython3",
   "version": "3.13.2"
  }
 },
 "nbformat": 4,
 "nbformat_minor": 5
}
