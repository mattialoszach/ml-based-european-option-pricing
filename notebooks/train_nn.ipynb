{
 "cells": [
  {
   "cell_type": "code",
   "execution_count": 1,
   "id": "0a9890b2-ffb1-4e18-b9d5-6d43b376fbe0",
   "metadata": {},
   "outputs": [
    {
     "data": {
      "text/plain": [
       "device(type='cpu')"
      ]
     },
     "execution_count": 1,
     "metadata": {},
     "output_type": "execute_result"
    }
   ],
   "source": [
    "import pandas as pd\n",
    "import torch\n",
    "import torch.nn as nn\n",
    "from sklearn.model_selection import train_test_split\n",
    "from sklearn.preprocessing import StandardScaler\n",
    "from torch.utils.data import DataLoader, TensorDataset\n",
    "import matplotlib.pyplot as plt\n",
    "import joblib\n",
    "import copy\n",
    "\n",
    "# Check available device\n",
    "device = torch.device(\"cuda\" if torch.cuda.is_available() else \"cpu\")\n",
    "device"
   ]
  },
  {
   "cell_type": "code",
   "execution_count": 2,
   "id": "5bb13a2b-ee13-411d-8a4e-2bf332adc3ce",
   "metadata": {
    "scrolled": true
   },
   "outputs": [
    {
     "name": "stdout",
     "output_type": "stream",
     "text": [
      "<class 'pandas.core.frame.DataFrame'>\n",
      "RangeIndex: 250000 entries, 0 to 249999\n",
      "Data columns (total 7 columns):\n",
      " #   Column  Non-Null Count   Dtype  \n",
      "---  ------  --------------   -----  \n",
      " 0   S       250000 non-null  float64\n",
      " 1   K       250000 non-null  float64\n",
      " 2   T       250000 non-null  float64\n",
      " 3   r       250000 non-null  float64\n",
      " 4   sigma   250000 non-null  float64\n",
      " 5   type    250000 non-null  int64  \n",
      " 6   price   250000 non-null  float64\n",
      "dtypes: float64(6), int64(1)\n",
      "memory usage: 13.4 MB\n"
     ]
    },
    {
     "data": {
      "text/html": [
       "<div>\n",
       "<style scoped>\n",
       "    .dataframe tbody tr th:only-of-type {\n",
       "        vertical-align: middle;\n",
       "    }\n",
       "\n",
       "    .dataframe tbody tr th {\n",
       "        vertical-align: top;\n",
       "    }\n",
       "\n",
       "    .dataframe thead th {\n",
       "        text-align: right;\n",
       "    }\n",
       "</style>\n",
       "<table border=\"1\" class=\"dataframe\">\n",
       "  <thead>\n",
       "    <tr style=\"text-align: right;\">\n",
       "      <th></th>\n",
       "      <th>S</th>\n",
       "      <th>K</th>\n",
       "      <th>T</th>\n",
       "      <th>r</th>\n",
       "      <th>sigma</th>\n",
       "      <th>type</th>\n",
       "      <th>price</th>\n",
       "    </tr>\n",
       "  </thead>\n",
       "  <tbody>\n",
       "    <tr>\n",
       "      <th>0</th>\n",
       "      <td>87.454012</td>\n",
       "      <td>145.071431</td>\n",
       "      <td>1.477388</td>\n",
       "      <td>0.059866</td>\n",
       "      <td>0.135810</td>\n",
       "      <td>0</td>\n",
       "      <td>3.236445e-02</td>\n",
       "    </tr>\n",
       "    <tr>\n",
       "      <th>1</th>\n",
       "      <td>59.997492</td>\n",
       "      <td>95.924889</td>\n",
       "      <td>0.700732</td>\n",
       "      <td>0.014287</td>\n",
       "      <td>0.407989</td>\n",
       "      <td>0</td>\n",
       "      <td>1.055673e+00</td>\n",
       "    </tr>\n",
       "    <tr>\n",
       "      <th>2</th>\n",
       "      <td>146.990985</td>\n",
       "      <td>133.244264</td>\n",
       "      <td>0.464061</td>\n",
       "      <td>0.018182</td>\n",
       "      <td>0.150872</td>\n",
       "      <td>1</td>\n",
       "      <td>1.109715e+00</td>\n",
       "    </tr>\n",
       "    <tr>\n",
       "      <th>3</th>\n",
       "      <td>111.165316</td>\n",
       "      <td>50.706631</td>\n",
       "      <td>0.094972</td>\n",
       "      <td>0.052477</td>\n",
       "      <td>0.269924</td>\n",
       "      <td>1</td>\n",
       "      <td>6.970430e-22</td>\n",
       "    </tr>\n",
       "    <tr>\n",
       "      <th>4</th>\n",
       "      <td>79.214465</td>\n",
       "      <td>86.636184</td>\n",
       "      <td>0.939336</td>\n",
       "      <td>0.078518</td>\n",
       "      <td>0.159821</td>\n",
       "      <td>0</td>\n",
       "      <td>4.323768e+00</td>\n",
       "    </tr>\n",
       "  </tbody>\n",
       "</table>\n",
       "</div>"
      ],
      "text/plain": [
       "            S           K         T         r     sigma  type         price\n",
       "0   87.454012  145.071431  1.477388  0.059866  0.135810     0  3.236445e-02\n",
       "1   59.997492   95.924889  0.700732  0.014287  0.407989     0  1.055673e+00\n",
       "2  146.990985  133.244264  0.464061  0.018182  0.150872     1  1.109715e+00\n",
       "3  111.165316   50.706631  0.094972  0.052477  0.269924     1  6.970430e-22\n",
       "4   79.214465   86.636184  0.939336  0.078518  0.159821     0  4.323768e+00"
      ]
     },
     "execution_count": 2,
     "metadata": {},
     "output_type": "execute_result"
    }
   ],
   "source": [
    "# Load CSV\n",
    "df = pd.read_csv(\"../data/raw/bs_dataset.csv\")[:250000]\n",
    "df.info()\n",
    "df.head()"
   ]
  },
  {
   "cell_type": "markdown",
   "id": "8cdca2c2-bb07-4df7-bdd6-333a1196c7da",
   "metadata": {},
   "source": [
    "## Basic Data Preprocessing"
   ]
  },
  {
   "cell_type": "code",
   "execution_count": 3,
   "id": "3598e595-6729-4259-9d8d-1342746f672c",
   "metadata": {},
   "outputs": [],
   "source": [
    "X = df[[\"S\", \"K\", \"T\", \"r\", \"sigma\", \"type\"]].values\n",
    "y = df[\"price\"].values.reshape(-1, 1)\n",
    "scaler_X = StandardScaler()\n",
    "scaler_y = StandardScaler()\n",
    "X_scaled = scaler_X.fit_transform(X)\n",
    "y_scaled = scaler_y.fit_transform(y)"
   ]
  },
  {
   "cell_type": "code",
   "execution_count": 4,
   "id": "efb687aa-0cbf-493a-848a-63fa5b239027",
   "metadata": {},
   "outputs": [],
   "source": [
    "X_train, X_test, y_train, y_test = train_test_split(X_scaled, y_scaled, test_size=0.2, random_state=42)"
   ]
  },
  {
   "cell_type": "code",
   "execution_count": 5,
   "id": "d66904dc-3328-4cf0-ab2d-77e53aad719c",
   "metadata": {},
   "outputs": [],
   "source": [
    "train_data = TensorDataset(torch.FloatTensor(X_train), torch.FloatTensor(y_train))\n",
    "val_data = TensorDataset(torch.FloatTensor(X_test), torch.FloatTensor(y_test))\n",
    "train_loader = DataLoader(train_data, batch_size=64, shuffle=True)\n",
    "val_loader = DataLoader(val_data, batch_size=64)"
   ]
  },
  {
   "cell_type": "markdown",
   "id": "9ede4c4b-4abd-4d8f-95b1-61ad81087c5c",
   "metadata": {},
   "source": [
    "## Define Model"
   ]
  },
  {
   "cell_type": "code",
   "execution_count": 6,
   "id": "bf5c22d9-a76d-4e3e-9e18-d0d5f26403ae",
   "metadata": {},
   "outputs": [],
   "source": [
    "class OptionPricingNN(nn.Module):\n",
    "    def __init__(self, input_dim):\n",
    "        super(OptionPricingNN, self).__init__()\n",
    "        self.model = nn.Sequential(\n",
    "            nn.Linear(input_dim, 64),\n",
    "            nn.ReLU(),\n",
    "            nn.Linear(64, 64),\n",
    "            nn.ReLU(),\n",
    "            nn.Linear(64, 1)\n",
    "        )\n",
    "\n",
    "    def forward(self, x):\n",
    "        return self.model(x)"
   ]
  },
  {
   "cell_type": "markdown",
   "id": "afa8644e-4d46-4687-ace8-7f474b1221cf",
   "metadata": {},
   "source": [
    "## Training"
   ]
  },
  {
   "cell_type": "code",
   "execution_count": 7,
   "id": "fd916127-2172-4df2-9848-8d56970be42d",
   "metadata": {},
   "outputs": [],
   "source": [
    "model = OptionPricingNN(input_dim = 6).to(device) # input_dim = X.shape[1]\n",
    "loss_fn = nn.MSELoss()\n",
    "optimizer = torch.optim.Adam(model.parameters(), lr=1e-3)\n",
    "\n",
    "epochs = 100\n",
    "\n",
    "# Early Stopping Setup\n",
    "patience = 5"
   ]
  },
  {
   "cell_type": "code",
   "execution_count": 8,
   "id": "2308d1c5-fa66-41dc-8309-0f3ed02f9a0f",
   "metadata": {},
   "outputs": [],
   "source": [
    "def evaluate(model, val_loader, loss_fn, device):\n",
    "    model.eval()\n",
    "    val_loss = 0.0\n",
    "    with torch.no_grad():\n",
    "        for xb, yb in val_loader:\n",
    "            xb, yb = xb.to(device), yb.to(device)\n",
    "            pred = model(xb)\n",
    "            loss = loss_fn(pred, yb)\n",
    "            val_loss += loss.item()\n",
    "    return val_loss / len(val_loader)"
   ]
  },
  {
   "cell_type": "code",
   "execution_count": 9,
   "id": "3f365e08-fedc-439f-8400-7a296292d936",
   "metadata": {},
   "outputs": [],
   "source": [
    "def train(model, train_loader, val_loader, loss_fn, device):\n",
    "    best_val_loss = float(\"inf\")\n",
    "    best_model = None\n",
    "    counter = 0\n",
    "    losses_train = []\n",
    "    losses_val = []\n",
    "    \n",
    "    for epoch in range(epochs):\n",
    "        model.train()\n",
    "        epoch_loss = 0\n",
    "        for xb, yb in train_loader:\n",
    "            xb, yb = xb.to(device), yb.to(device)\n",
    "            pred = model(xb)\n",
    "            loss = loss_fn(pred, yb)\n",
    "            optimizer.zero_grad()\n",
    "            loss.backward()\n",
    "            optimizer.step()\n",
    "            epoch_loss += loss.item()\n",
    "        avg_train_loss = epoch_loss / len(train_loader)\n",
    "        losses_train.append(avg_train_loss)\n",
    "\n",
    "        # Validation\n",
    "        avg_val_loss = evaluate(model, val_loader, loss_fn, device)\n",
    "        losses_val.append(avg_val_loss)\n",
    "        print(f\"Epoch {epoch}: Train Loss = {avg_train_loss} | Validation Loss = {avg_val_loss}\")\n",
    "\n",
    "        # Early Stopping Check\n",
    "        if avg_val_loss < best_val_loss:\n",
    "            best_val_loss = avg_val_loss\n",
    "            best_model = copy.deepcopy(model.state_dict())\n",
    "            counter = 0\n",
    "        else:\n",
    "            counter += 1\n",
    "            if counter >= patience:\n",
    "                print(f\"Early stopping triggered at epoch {epoch}\")\n",
    "                break\n",
    "    return best_model, losses_train, losses_val"
   ]
  },
  {
   "cell_type": "code",
   "execution_count": 10,
   "id": "e0023c63-6552-4503-abcb-f1d96550432b",
   "metadata": {},
   "outputs": [
    {
     "name": "stdout",
     "output_type": "stream",
     "text": [
      "Epoch 0: Train Loss = 0.01630452185225673 | Validation Loss = 0.0005996901311722877\n",
      "Epoch 1: Train Loss = 0.00044831775665748867 | Validation Loss = 0.0003380829736630878\n",
      "Epoch 2: Train Loss = 0.0002814707305980846 | Validation Loss = 0.0002409873551556893\n",
      "Epoch 3: Train Loss = 0.00022238300963770599 | Validation Loss = 0.00017478553799848618\n",
      "Epoch 4: Train Loss = 0.00019698198948404753 | Validation Loss = 0.0002035566427003708\n",
      "Epoch 5: Train Loss = 0.00016652648296090774 | Validation Loss = 0.000170098927096509\n",
      "Epoch 6: Train Loss = 0.00014752443863311782 | Validation Loss = 8.71977775128108e-05\n",
      "Epoch 7: Train Loss = 0.00013481168973376043 | Validation Loss = 0.00021736368652247964\n",
      "Epoch 8: Train Loss = 0.00012344051238847897 | Validation Loss = 8.302722094796986e-05\n",
      "Epoch 9: Train Loss = 0.0001142756874510087 | Validation Loss = 0.00018678431667614064\n",
      "Epoch 10: Train Loss = 0.00010857127821363975 | Validation Loss = 5.844653560765102e-05\n",
      "Epoch 11: Train Loss = 9.969627508777194e-05 | Validation Loss = 0.00018905454780534267\n",
      "Epoch 12: Train Loss = 9.181620023562573e-05 | Validation Loss = 0.0001866139290450752\n",
      "Epoch 13: Train Loss = 9.244640294229612e-05 | Validation Loss = 9.511100919288256e-05\n",
      "Epoch 14: Train Loss = 8.622326290234923e-05 | Validation Loss = 6.281039037517971e-05\n",
      "Epoch 15: Train Loss = 8.299123278120533e-05 | Validation Loss = 8.344908372451114e-05\n",
      "Early stopping triggered at epoch 15\n"
     ]
    },
    {
     "data": {
      "image/png": "[encoded data removed]",
      "text/plain": [
       "<Figure size 640x480 with 1 Axes>"
      ]
     },
     "metadata": {},
     "output_type": "display_data"
    }
   ],
   "source": [
    "best_model, losses_train, losses_val = train(model, train_loader, val_loader, loss_fn, device)\n",
    "\n",
    "# Plot Train/Validation Loss\n",
    "plt.plot(losses_train, label=\"Train Loss\")\n",
    "plt.plot(losses_val, label=\"Validation Loss\")\n",
    "plt.legend()\n",
    "plt.title(\"Loss per Epoch\")\n",
    "plt.xlabel(\"Epoch\")\n",
    "plt.ylabel(\"Loss\")\n",
    "plt.grid(True)\n",
    "plt.show()"
   ]
  },
  {
   "cell_type": "markdown",
   "id": "b702cc65-703c-414c-a465-c4d43b5d626c",
   "metadata": {},
   "source": [
    "## Save best Model"
   ]
  },
  {
   "cell_type": "code",
   "execution_count": 12,
   "id": "9c33c9d0-cdd2-4a46-9400-f10f3ce93631",
   "metadata": {},
   "outputs": [],
   "source": [
    "model.load_state_dict(best_model)\n",
    "torch.save(model.state_dict(), \"../models/best_model_nn.pt\")"
   ]
  },
  {
   "cell_type": "code",
   "execution_count": null,
   "id": "95d53c9d-54e7-489c-8537-bb83290ce866",
   "metadata": {},
   "outputs": [],
   "source": []
  }
 ],
 "metadata": {
  "kernelspec": {
   "display_name": "Python (venv)",
   "language": "python",
   "name": "venv"
  },
  "language_info": {
   "codemirror_mode": {
    "name": "ipython",
    "version": 3
   },
   "file_extension": ".py",
   "mimetype": "text/x-python",
   "name": "python",
   "nbconvert_exporter": "python",
   "pygments_lexer": "ipython3",
   "version": "3.13.2"
  }
 },
 "nbformat": 4,
 "nbformat_minor": 5
}
